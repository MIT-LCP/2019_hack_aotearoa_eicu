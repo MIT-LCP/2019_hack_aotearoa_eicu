{
  "nbformat": 4,
  "nbformat_minor": 0,
  "metadata": {
    "colab": {
      "name": "07-aki-project.ipynb",
      "version": "0.3.2",
      "provenance": [],
      "collapsed_sections": [],
      "include_colab_link": true
    },
    "kernelspec": {
      "name": "python3",
      "display_name": "Python 3"
    }
  },
  "cells": [
    {
      "cell_type": "markdown",
      "metadata": {
        "id": "view-in-github",
        "colab_type": "text"
      },
      "source": [
        "<a href=\"https://colab.research.google.com/github/MIT-LCP/2019_hack_aotearoa_eicu/blob/master/07_aki_project.ipynb\" target=\"_parent\"><img src=\"https://colab.research.google.com/assets/colab-badge.svg\" alt=\"Open In Colab\"/></a>"
      ]
    },
    {
      "metadata": {
        "id": "7HXE-dGyLHYa",
        "colab_type": "text"
      },
      "cell_type": "markdown",
      "source": [
        "# eICU Collaborative Research Database\n",
        "\n",
        "# Notebook 7: An example project\n",
        "\n",
        "This notebook introduces a project focused on acute kidney injury, quantifying differences between patients with and without the condition."
      ]
    },
    {
      "metadata": {
        "id": "2hTYG_w4Lzfg",
        "colab_type": "text"
      },
      "cell_type": "markdown",
      "source": [
        "## Load libraries and connect to the database"
      ]
    },
    {
      "metadata": {
        "id": "_Z_G2UCcLoii",
        "colab_type": "code",
        "colab": {}
      },
      "cell_type": "code",
      "source": [
        "# Import libraries\n",
        "import numpy as np\n",
        "import os\n",
        "import pandas as pd\n",
        "import matplotlib.pyplot as plt\n",
        "import matplotlib.patches as patches\n",
        "import matplotlib.path as path\n",
        "\n",
        "# Make pandas dataframes prettier\n",
        "from IPython.display import display, HTML\n",
        "\n",
        "# Access data using Google BigQuery.\n",
        "from google.colab import auth\n",
        "from google.cloud import bigquery"
      ],
      "execution_count": 0,
      "outputs": []
    },
    {
      "metadata": {
        "id": "1f3Ahq0hL1xv",
        "colab_type": "code",
        "colab": {}
      },
      "cell_type": "code",
      "source": [
        "# authenticate\n",
        "auth.authenticate_user()"
      ],
      "execution_count": 0,
      "outputs": []
    },
    {
      "metadata": {
        "id": "DbwAi_e2L3eO",
        "colab_type": "code",
        "colab": {}
      },
      "cell_type": "code",
      "source": [
        "# Set up environment variables\n",
        "project_id='new-zealand-2018-datathon'\n",
        "os.environ[\"GOOGLE_CLOUD_PROJECT\"]=project_id"
      ],
      "execution_count": 0,
      "outputs": []
    },
    {
      "metadata": {
        "id": "DvxKwbsKL6XR",
        "colab_type": "code",
        "colab": {}
      },
      "cell_type": "code",
      "source": [
        "# Helper function to read data from BigQuery into a DataFrame.\n",
        "def run_query(query):\n",
        "    return pd.io.gbq.read_gbq(query, project_id=project_id, verbose=False, \n",
        "                            configuration={'query':{'useLegacySql': False}})"
      ],
      "execution_count": 0,
      "outputs": []
    },
    {
      "metadata": {
        "id": "Pown2uTtL9kz",
        "colab_type": "text"
      },
      "cell_type": "markdown",
      "source": [
        "## Define the cohort\n",
        "\n",
        "Our first step is to define the patient population we are interested in. For this project, we'd like to identify those patients with any past history of renal failure and compare them with the remaining patients.\n",
        "\n",
        "First, we extract all patient unit stays from the patient table.\n"
      ]
    },
    {
      "metadata": {
        "id": "Qa3TYl2PL7-i",
        "colab_type": "code",
        "colab": {}
      },
      "cell_type": "code",
      "source": [
        "# Link the patient and apachepatientresult tables on patientunitstayid\n",
        "# using an inner join.\n",
        "query = \"\"\"\n",
        "SELECT *\n",
        "FROM `physionet-data.eicu_crd_demo.patient`\n",
        "\"\"\"\n",
        "\n",
        "patient = run_query(query)"
      ],
      "execution_count": 0,
      "outputs": []
    },
    {
      "metadata": {
        "id": "NiJ7V6QBMUuX",
        "colab_type": "text"
      },
      "cell_type": "markdown",
      "source": [
        "Now we investigate the pasthistory table, and look at all the mentions of past history which contain the phrase 'Renal  (R)' - note we use % as they are wildcard characters for SQL.\n",
        "\n"
      ]
    },
    {
      "metadata": {
        "id": "V4JrlnenMSJ-",
        "colab_type": "code",
        "colab": {}
      },
      "cell_type": "code",
      "source": [
        "query = \"\"\"\n",
        "SELECT pasthistorypath, count(*) as n\n",
        "FROM `physionet-data.eicu_crd_demo.pasthistory`\n",
        "WHERE pasthistorypath LIKE '%Renal  (R)%'\n",
        "GROUP BY pasthistorypath\n",
        "ORDER BY n DESC;\n",
        "\"\"\"\n",
        "\n",
        "ph = run_query(query)\n",
        "\n",
        "for row in ph.iterrows():\n",
        "    r = row[1]\n",
        "    print('{:3g} - {:20s}'.format(r['n'],r['pasthistorypath'][48:]))"
      ],
      "execution_count": 0,
      "outputs": []
    },
    {
      "metadata": {
        "id": "oLA3lat9MirI",
        "colab_type": "text"
      },
      "cell_type": "markdown",
      "source": [
        "These all seem like reasonable surrogates for renal insufficiency (note: for a real clinical study, you'd want to be a lot more thorough!).\n",
        "\n"
      ]
    },
    {
      "metadata": {
        "id": "fygnwv0OMfZg",
        "colab_type": "code",
        "colab": {}
      },
      "cell_type": "code",
      "source": [
        "# identify patients with insufficiency\n",
        "\n",
        "query = \"\"\"\n",
        "SELECT DISTINCT patientunitstayid\n",
        "FROM `physionet-data.eicu_crd_demo.pasthistory`\n",
        "WHERE pasthistorypath LIKE '%Renal  (R)%'\n",
        "\"\"\"\n",
        "\n",
        "df_have_crf = run_query(query)\n",
        "df_have_crf['crf'] = 1"
      ],
      "execution_count": 0,
      "outputs": []
    },
    {
      "metadata": {
        "id": "JUZ60JVnMpFd",
        "colab_type": "code",
        "colab": {}
      },
      "cell_type": "code",
      "source": [
        "# merge the above data into our original dataframe\n",
        "\n",
        "df = patient.merge(df_have_crf, how='left',\n",
        "              left_on='patientunitstayid', right_on='patientunitstayid')\n",
        "df.head()"
      ],
      "execution_count": 0,
      "outputs": []
    },
    {
      "metadata": {
        "id": "idLXqNGrMvQF",
        "colab_type": "code",
        "colab": {}
      },
      "cell_type": "code",
      "source": [
        "# impute 0s for the missing CRF values\n",
        "df.fillna(value=0,inplace=True)\n",
        "df.head()"
      ],
      "execution_count": 0,
      "outputs": []
    },
    {
      "metadata": {
        "id": "dRCZ1KoTM7uw",
        "colab_type": "code",
        "colab": {}
      },
      "cell_type": "code",
      "source": [
        "# set patientunitstayid as the index - convenient for indexing later\n",
        "df.set_index('patientunitstayid',inplace=True)"
      ],
      "execution_count": 0,
      "outputs": []
    },
    {
      "metadata": {
        "id": "GPDavuXVM_0G",
        "colab_type": "text"
      },
      "cell_type": "markdown",
      "source": [
        "## Load creatinine from lab table\n"
      ]
    },
    {
      "metadata": {
        "id": "XGHj_sVJM96D",
        "colab_type": "code",
        "colab": {}
      },
      "cell_type": "code",
      "source": [
        "query = \"\"\"\n",
        "SELECT patientunitstayid, labresult\n",
        "FROM `physionet-data.eicu_crd_demo.lab`\n",
        "WHERE labname = 'creatinine'\n",
        "\"\"\"\n",
        "\n",
        "lab = run_query(query)\n",
        "\n",
        "# set patientunitstayid as the index\n",
        "lab.set_index('patientunitstayid',inplace=True)\n"
      ],
      "execution_count": 0,
      "outputs": []
    },
    {
      "metadata": {
        "id": "swgESA5TNGiS",
        "colab_type": "code",
        "colab": {}
      },
      "cell_type": "code",
      "source": [
        "# get first creatinine by grouping by the index (level=0)\n",
        "cr_first = lab.groupby(level=0).first()\n",
        "\n",
        "# similarly get maximum creatinine\n",
        "cr_max = lab.groupby(level=0).max()"
      ],
      "execution_count": 0,
      "outputs": []
    },
    {
      "metadata": {
        "id": "PYEWT8IfNQry",
        "colab_type": "text"
      },
      "cell_type": "markdown",
      "source": [
        "## Plot distributions of creatinine in both groups\n"
      ]
    },
    {
      "metadata": {
        "id": "5N4XEIbcNO9Q",
        "colab_type": "code",
        "colab": {}
      },
      "cell_type": "code",
      "source": [
        "plt.figure(figsize=[10,6])\n",
        "\n",
        "xi = np.arange(0,10,0.1)\n",
        "\n",
        "# get patients who had CRF and plot a histogram\n",
        "idx = df.loc[df['crf']==1,:].index\n",
        "plt.hist( cr_first.loc[idx,'labresult'].dropna(), bins=xi, label='With CRF' )\n",
        "\n",
        "# get patients who did not have CRF\n",
        "idx = df.loc[df['crf']==0,:].index\n",
        "plt.hist( cr_first.loc[idx,'labresult'].dropna(), alpha=0.5, bins=xi, label='No CRF' )\n",
        "\n",
        "plt.legend()\n",
        "\n",
        "plt.show()"
      ],
      "execution_count": 0,
      "outputs": []
    },
    {
      "metadata": {
        "id": "UFIOPs8TNYJV",
        "colab_type": "text"
      },
      "cell_type": "markdown",
      "source": [
        "While it appears that patients in the red group have higher creatinines, we have far more patients in the blue group (no CRF) than in the red group (have CRF). To alleviate this and allow a fairer comparison, we can normalize the histogram.\n",
        "\n"
      ]
    },
    {
      "metadata": {
        "id": "5P3B_uUeNUiR",
        "colab_type": "code",
        "colab": {}
      },
      "cell_type": "code",
      "source": [
        "plt.figure(figsize=[10,6])\n",
        "\n",
        "xi = np.arange(0,10,0.1)\n",
        "\n",
        "# get patients who had CRF and plot a histogram\n",
        "idx = df.loc[df['crf']==1,:].index\n",
        "plt.hist( cr_first.loc[idx,'labresult'].dropna(), bins=xi, normed=True,\n",
        "         label='With CRF' )\n",
        "\n",
        "# get patients who did not have CRF\n",
        "idx = df.loc[df['crf']==0,:].index\n",
        "plt.hist( cr_first.loc[idx,'labresult'].dropna(), alpha=0.5, bins=xi, normed=True,\n",
        "         label='No CRF' )\n",
        "\n",
        "plt.legend()\n",
        "\n",
        "plt.show()"
      ],
      "execution_count": 0,
      "outputs": []
    },
    {
      "metadata": {
        "id": "oagJ1XQ8NcKg",
        "colab_type": "text"
      },
      "cell_type": "markdown",
      "source": [
        "Here we can very clearly see that the first creatinine measured is a lot higher for patients with some baseline kidney dysfunction when compared to those without. Let's try it with the highest value.\n",
        "\n"
      ]
    },
    {
      "metadata": {
        "id": "-aBkodMGNZ_O",
        "colab_type": "code",
        "colab": {}
      },
      "cell_type": "code",
      "source": [
        "plt.figure(figsize=[10,6])\n",
        "\n",
        "xi = np.arange(0,10,0.1)\n",
        "\n",
        "# get patients who had CRF and plot a histogram\n",
        "idx = df.loc[df['crf']==1,:].index\n",
        "plt.hist( cr_max.loc[idx,'labresult'].dropna(), bins=xi, normed=True,\n",
        "         label='With CRF' )\n",
        "\n",
        "# get patients who did not have CRF\n",
        "idx = df.loc[df['crf']==0,:].index\n",
        "plt.hist( cr_max.loc[idx,'labresult'].dropna(), alpha=0.5, bins=xi, normed=True,\n",
        "         label='No CRF' )\n",
        "\n",
        "plt.legend()\n",
        "\n",
        "plt.show()"
      ],
      "execution_count": 0,
      "outputs": []
    },
    {
      "metadata": {
        "id": "F2upj7XaNf7b",
        "colab_type": "text"
      },
      "cell_type": "markdown",
      "source": [
        "Unsuprisingly, a very similar story!"
      ]
    }
  ]
}