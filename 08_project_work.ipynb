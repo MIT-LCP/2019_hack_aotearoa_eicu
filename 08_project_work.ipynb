{
  "nbformat": 4,
  "nbformat_minor": 0,
  "metadata": {
    "colab": {
      "name": "project-work",
      "version": "0.3.2",
      "provenance": [],
      "collapsed_sections": [],
      "include_colab_link": true
    },
    "kernelspec": {
      "name": "python3",
      "display_name": "Python 3"
    }
  },
  "cells": [
    {
      "cell_type": "markdown",
      "metadata": {
        "id": "view-in-github",
        "colab_type": "text"
      },
      "source": [
        "<a href=\"https://colab.research.google.com/github/MIT-LCP/2019_hack_aotearoa_eicu/blob/master/08_project_work.ipynb\" target=\"_parent\"><img src=\"https://colab.research.google.com/assets/colab-badge.svg\" alt=\"Open In Colab\"/></a>"
      ]
    },
    {
      "metadata": {
        "id": "GsWKSUPhN3es",
        "colab_type": "text"
      },
      "cell_type": "markdown",
      "source": [
        "# eICU Collaborative Research Database\n",
        "\n",
        "# Notebook 8: Project work\n",
        "\n",
        "This notebook is intended as a starting point for future projects."
      ]
    },
    {
      "metadata": {
        "id": "Gbgg16I9OIKI",
        "colab_type": "text"
      },
      "cell_type": "markdown",
      "source": [
        "## Load libraries and connect to the database"
      ]
    },
    {
      "metadata": {
        "id": "fUXc8SjTOFMJ",
        "colab_type": "code",
        "colab": {}
      },
      "cell_type": "code",
      "source": [
        "# Import libraries\n",
        "import numpy as np\n",
        "import os\n",
        "import pandas as pd\n",
        "import matplotlib.pyplot as plt\n",
        "import matplotlib.patches as patches\n",
        "import matplotlib.path as path\n",
        "\n",
        "# Make pandas dataframes prettier\n",
        "from IPython.display import display, HTML\n",
        "\n",
        "# Access data using Google BigQuery.\n",
        "from google.colab import auth\n",
        "from google.cloud import bigquery"
      ],
      "execution_count": 0,
      "outputs": []
    },
    {
      "metadata": {
        "id": "tACn8gYaOJqc",
        "colab_type": "code",
        "colab": {}
      },
      "cell_type": "code",
      "source": [
        "# authenticate\n",
        "auth.authenticate_user()"
      ],
      "execution_count": 0,
      "outputs": []
    },
    {
      "metadata": {
        "id": "xGzQLXJAOK-c",
        "colab_type": "code",
        "colab": {}
      },
      "cell_type": "code",
      "source": [
        "# Set up environment variables\n",
        "project_id='physionet-data'\n",
        "os.environ[\"GOOGLE_CLOUD_PROJECT\"]=project_id"
      ],
      "execution_count": 0,
      "outputs": []
    },
    {
      "metadata": {
        "id": "pXa4K4RqOMId",
        "colab_type": "code",
        "colab": {}
      },
      "cell_type": "code",
      "source": [
        "# Helper function to read data from BigQuery into a DataFrame.\n",
        "def run_query(query):\n",
        "    return pd.io.gbq.read_gbq(query, project_id=project_id, verbose=False, \n",
        "                            configuration={'query':{'useLegacySql': False}})"
      ],
      "execution_count": 0,
      "outputs": []
    },
    {
      "metadata": {
        "id": "2lQ03IAjORL8",
        "colab_type": "text"
      },
      "cell_type": "markdown",
      "source": [
        "## Choose a project, or try your own!\n",
        "\n",
        "- Congestive heart failure is a common illness for ICU patients, but the severity of the illness can vary substantially. Are there distinct subgroups among patients admitted with congestive heart failure? For example, are patients with preserved ejection fraction substantially different than those without?\n",
        "- Sepsis is a life-threatening condition usually associated with infection - but little research investigates how septic patients vary based on the source of the infection. As APACHE diagnoses are organ specific (e.g. SEPSISPULM, SEPSISGI, SEPSISUTI), can we find any substantial differences among septic patients based upon the initial location of the infection?\n",
        "- Lab measurements take up to 6 hours to measure and can be costly. Can we predict a future lab measurement based upon previous measures and simultaneous non-invasive measurements?"
      ]
    },
    {
      "metadata": {
        "id": "K7znlFcTONlT",
        "colab_type": "code",
        "colab": {}
      },
      "cell_type": "code",
      "source": [
        ""
      ],
      "execution_count": 0,
      "outputs": []
    }
  ]
}